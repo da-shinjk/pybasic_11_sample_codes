{
 "cells": [
  {
   "cell_type": "code",
   "execution_count": 1,
   "metadata": {},
   "outputs": [
    {
     "name": "stdout",
     "output_type": "stream",
     "text": [
      "10\n",
      "9\n",
      "8\n",
      "7\n",
      "6\n",
      "5\n",
      "4\n",
      "3\n",
      "2\n",
      "1\n"
     ]
    }
   ],
   "source": [
    "counter = 10\n",
    "\n",
    "while counter > 0:\n",
    "    print(counter)\n",
    "    counter = counter - 1  # counter -= 1 でも同等"
   ]
  },
  {
   "cell_type": "code",
   "execution_count": 2,
   "metadata": {},
   "outputs": [
    {
     "name": "stdout",
     "output_type": "stream",
     "text": [
      "10\n",
      "9\n",
      "8\n",
      "7\n",
      "6\n",
      "5\n",
      "4\n",
      "3\n",
      "2\n",
      "1\n",
      "Bomb!\n"
     ]
    }
   ],
   "source": [
    "counter = 10\n",
    "\n",
    "while counter > 0:\n",
    "    print(counter)\n",
    "    counter = counter - 1\n",
    "\n",
    "print('Bomb!')"
   ]
  },
  {
   "cell_type": "code",
   "execution_count": 3,
   "metadata": {},
   "outputs": [
    {
     "name": "stdout",
     "output_type": "stream",
     "text": [
      "10\n",
      "9\n",
      "8\n",
      "7\n",
      "6\n",
      "5\n",
      "4\n",
      "3\n",
      "2\n",
      "1\n",
      "Bomb!\n"
     ]
    }
   ],
   "source": [
    "counter = 10\n",
    "\n",
    "while counter > 0:\n",
    "    print(counter)\n",
    "    counter = counter - 1\n",
    "else:\n",
    "    print('Bomb!')"
   ]
  },
  {
   "cell_type": "code",
   "execution_count": 4,
   "metadata": {},
   "outputs": [
    {
     "name": "stdout",
     "output_type": "stream",
     "text": [
      "0\n",
      "2\n",
      "4\n",
      "6\n",
      "8\n",
      "10\n"
     ]
    }
   ],
   "source": [
    "for number in range(0, 11, 2):\n",
    "    print(number)"
   ]
  },
  {
   "cell_type": "code",
   "execution_count": 5,
   "metadata": {},
   "outputs": [
    {
     "name": "stdout",
     "output_type": "stream",
     "text": [
      "10\n",
      "9\n",
      "8\n",
      "7\n",
      "6\n",
      "5\n",
      "4\n",
      "3\n",
      "2\n",
      "1\n",
      "bomb!\n"
     ]
    }
   ],
   "source": [
    "for number in range(10, 0, -1):\n",
    "    print(number)\n",
    "\n",
    "print('bomb!')"
   ]
  },
  {
   "cell_type": "code",
   "execution_count": 6,
   "metadata": {},
   "outputs": [
    {
     "name": "stdout",
     "output_type": "stream",
     "text": [
      "もっと大きな数値です\n",
      "もっと大きな数値です\n",
      "もっと大きな数値です\n",
      "もっと小さな数値です\n",
      "もっと大きな数値です\n",
      "もっと小さな数値です\n",
      "もっと大きな数値です\n",
      "素晴らしい！ 正解です！\n"
     ]
    }
   ],
   "source": [
    "import random\n",
    "answer = random.randint(1, 100)\n",
    "\n",
    "number = int(input('100までの数値を入力してください: '))\n",
    "\n",
    "while answer != number:\n",
    "    if answer < number:\n",
    "        print('もっと小さな数値です')\n",
    "    else:\n",
    "        print('もっと大きな数値です')\n",
    "    number = int(input('100までの数値を入力してください: '))\n",
    "\n",
    "print('素晴らしい！ 正解です！')"
   ]
  },
  {
   "cell_type": "code",
   "execution_count": 7,
   "metadata": {},
   "outputs": [
    {
     "name": "stdout",
     "output_type": "stream",
     "text": [
      "もっと大きな数値です\n",
      "もっと大きな数値です\n",
      "もっと小さな数値です\n",
      "もっと大きな数値です\n",
      "素晴らしい！ 正解です！\n"
     ]
    }
   ],
   "source": [
    "import random\n",
    "answer = random.randint(1, 100)\n",
    "\n",
    "while True:  # 無限ループ\n",
    "    number = int(input('100までの数値を入力してください: '))\n",
    "    if answer < number:\n",
    "        print('もっと小さな数値です')\n",
    "    elif answer > number:\n",
    "        print('もっと大きな数値です')\n",
    "    else:\n",
    "        break  # 変数answerの値と変数numberの値が等しければ終了\n",
    "\n",
    "print('素晴らしい！ 正解です！')"
   ]
  }
 ],
 "metadata": {
  "interpreter": {
   "hash": "8208c152a6207d1ee75ff8e3819d999d6898dffcb78c94f93da7c93dd8f512f6"
  },
  "kernelspec": {
   "display_name": "Python 3.10.4 64-bit",
   "language": "python",
   "name": "python3"
  },
  "language_info": {
   "codemirror_mode": {
    "name": "ipython",
    "version": 3
   },
   "file_extension": ".py",
   "mimetype": "text/x-python",
   "name": "python",
   "nbconvert_exporter": "python",
   "pygments_lexer": "ipython3",
   "version": "3.10.4"
  },
  "orig_nbformat": 4
 },
 "nbformat": 4,
 "nbformat_minor": 2
}
